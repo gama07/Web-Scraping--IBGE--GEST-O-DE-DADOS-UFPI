{
 "cells": [
  {
   "cell_type": "markdown",
   "id": "3f5f0725",
   "metadata": {},
   "source": [
    "<h1> \n",
    "    \n",
    "    UNIVERSIDADE FEDERAL DO PIAUI\n",
    "    \n",
    "    CURSO DE GESTÃO DE DADOS\n",
    "    \n",
    "    TRABALHO ANÁLISE DE DADOS\n",
    "</h1>\n",
    "    \n",
    "    \n",
    "<h6>Estudantes:</h6>\n",
    "    \n",
    "   Bruna Lorena\n",
    "   \n",
    "   Kedma Freire\n",
    "    \n",
    "<h6>Site a ser monitorado: </h6>\n",
    "        \n",
    "https://www.ibge.gov.br/indicadores.html\n",
    "        \n",
    "Portal de Indicadores Econômicos do Instituto Brasileiro de Geografia e Estatística (IBGE)\n",
    "        \n",
    "<h6>Proposta: </h6>\n",
    "        \n",
    "A presente proposta se concentra nos indicadores econômicos do Brasil, com base nos resultados obtidos nas análises disponíveis no Portal de Indicadores Econômicos do IBGE. \n",
    "        \n",
    "Utilizaremos Python e BeautifulSoup para automatizar a coleta de dados desses indicadores, que incluem o IPCA, INPC, PIB, IPCA-15, IPP, Custo do m², PIB per capita, Indústria, Comércio e Serviços.\n",
    "\n",
    "A relevância deste trabalho consiste na automatização de um processo que pode envolver erros ao ser coletado manualmente (ex: esquecer um \"0\").\n",
    "        \n",
    "<h6>Etapas:</h6>\n",
    "\n"
   ]
  },
  {
   "cell_type": "markdown",
   "id": "be3b3e5e",
   "metadata": {},
   "source": [
    "1 - Primeiramente, importamos as  bibliotecas para a raspagem de dados:\n",
    "- BeautifulSoup para análise HTML, \n",
    "- Requests para fazer solicitações HTTP, \n",
    "- Html5lib como um analisador HTML\n",
    "- Pandas para estruturar dados em dataframes."
   ]
  },
  {
   "cell_type": "code",
   "execution_count": 50,
   "id": "2d85ff86",
   "metadata": {},
   "outputs": [],
   "source": [
    "from bs4 import BeautifulSoup\n",
    "import requests\n",
    "import html5lib\n",
    "import pandas as pd\n"
   ]
  },
  {
   "cell_type": "code",
   "execution_count": 62,
   "id": "2847694a",
   "metadata": {},
   "outputs": [],
   "source": [
    "headers = {\"User-Agent\":\"Mozilla/5.0 (Windows NT 10.0; Win64; x64) AppleWebKit/537.36 (KHTML, like Gecko) Chrome/117.0.0.0 Safari/537.36\"}\n",
    "\n",
    "url = 'https://www.ibge.gov.br/indicadores.html'\n",
    "painel_geral = requests.get(url, headers=headers)\n",
    "soup = BeautifulSoup(painel_geral.content, 'html5lib')\n",
    "#soup\n"
   ]
  },
  {
   "cell_type": "code",
   "execution_count": 108,
   "id": "50fbd60c",
   "metadata": {
    "scrolled": false
   },
   "outputs": [],
   "source": [
    "html_tabela = soup.find('table', class_=\"indicadores-tabela indicadores-economicos\")\n",
    "#print(html_tabela)"
   ]
  },
  {
   "cell_type": "markdown",
   "id": "6e790a76",
   "metadata": {},
   "source": [
    "2 - Criando um dicionário geral, para futuramente concatenar todos os sub-dicionários"
   ]
  },
  {
   "cell_type": "code",
   "execution_count": 252,
   "id": "827eab8f",
   "metadata": {},
   "outputs": [],
   "source": [
    "dic_geral = {\n",
    "    'Indicadores econômicos': [], \n",
    "    'Último': [], \n",
    "    'Anterior': [], \n",
    "    '12 meses': [], \n",
    "    'No ano': []\n",
    "}\n",
    "\n",
    "#print(dic_geral)"
   ]
  },
  {
   "cell_type": "markdown",
   "id": "e1fcd999",
   "metadata": {},
   "source": [
    "3 - Iniciando a raspagem linha a linha, ou seja, indicador a indicador"
   ]
  },
  {
   "cell_type": "markdown",
   "id": "11f08efa",
   "metadata": {},
   "source": [
    "Indicador IPCA"
   ]
  },
  {
   "cell_type": "code",
   "execution_count": 254,
   "id": "cda80070",
   "metadata": {},
   "outputs": [],
   "source": [
    "for linha in html_tabela.tbody.find_all('tr', id='indicador-ipca'): # pegando cada linha <tr> da tabela\n",
    "        indicadores_ipca = linha.find('th').text.strip()[:5]\n",
    "        ultimo_ipca = linha.find('td', class_='ultimo').text.strip()[34:39]\n",
    "        anterior_ipca = linha.find('td', class_='desktop-tablet-only anterior').text.strip()[36:41]\n",
    "        meses12_ipca = linha.find('td', class_='desktop-tablet-only dozemeses').text.strip()[36:41]\n",
    "        no_ano_ipca = linha.find('td', class_='desktop-tablet-only ano').text.strip()[34:39]\n",
    "\n",
    "        # adicionando os valores das linhas a um dicionário temporário (pra depois juntar tudo no dic_geral)\n",
    "        \n",
    "        dic_ipca = {\n",
    "            'Indicadores econômicos': indicadores_ipca,\n",
    "            'Último': ultimo_ipca,\n",
    "            'Anterior': anterior_ipca,\n",
    "            '12 meses': meses12_ipca,\n",
    "            'No ano': no_ano_ipca\n",
    "        }\n",
    "    \n",
    "\n",
    "df_ipca = pd.DataFrame(dic_ipca, index=[0])\n",
    "#display(df_ipca)\n",
    "\n"
   ]
  },
  {
   "cell_type": "markdown",
   "id": "5882f327",
   "metadata": {},
   "source": [
    "Indicador INPC"
   ]
  },
  {
   "cell_type": "code",
   "execution_count": 255,
   "id": "3a3e5505",
   "metadata": {},
   "outputs": [],
   "source": [
    "for linha in html_tabela.tbody.find_all('tr', id='indicador-inpc'): # pegando cada linha <tr> da tabela\n",
    "        indicadores_inpc = linha.find('th').text.strip()[:5]\n",
    "        ultimo_inpc = linha.find('td', class_='ultimo').text.strip()[34:39]\n",
    "        anterior_inpc = linha.find('td', class_='desktop-tablet-only anterior').text.strip()[36:42]\n",
    "        meses12_inpc = linha.find('td', class_='desktop-tablet-only dozemeses').text.strip()[36:41]\n",
    "        no_ano_inpc = linha.find('td', class_='desktop-tablet-only ano').text.strip()[34:39]\n",
    "      \n",
    "        # adicionando os valores das linhas a um dicionário temporário (pra depois juntar tudo no dic_geral)\n",
    "        \n",
    "        dic_inpc = {\n",
    "            'Indicadores econômicos': indicadores_inpc,\n",
    "            'Último': ultimo_inpc,\n",
    "            'Anterior': anterior_inpc,\n",
    "            '12 meses': meses12_inpc,\n",
    "            'No ano': no_ano_inpc\n",
    "        }\n",
    "    \n",
    "df_inpc = pd.DataFrame(dic_inpc, index=[0])\n",
    "#display(df_inpc)"
   ]
  },
  {
   "cell_type": "markdown",
   "id": "0ec8698d",
   "metadata": {},
   "source": [
    "Indicador IPCA"
   ]
  },
  {
   "cell_type": "code",
   "execution_count": 256,
   "id": "d5cb0877",
   "metadata": {},
   "outputs": [],
   "source": [
    "for linha in html_tabela.tbody.find_all('tr', id='indicador-ipca'): # pegando cada linha <tr> da tabela\n",
    "        indicadores_ipca = linha.find('th').text.strip()[:5]\n",
    "        ultimo_ipca = linha.find('td', class_='ultimo').text.strip()[34:39]\n",
    "        anterior_ipca = linha.find('td', class_='desktop-tablet-only anterior').text.strip()[36:41]\n",
    "        meses12_ipca = linha.find('td', class_='desktop-tablet-only dozemeses').text.strip()[36:41]\n",
    "        no_ano_ipca = linha.find('td', class_='desktop-tablet-only ano').text.strip()[34:39]\n",
    "      \n",
    "        # adicionando os valores das linhas a um dicionário temporário (pra depois juntar tudo no dic_geral)\n",
    "        \n",
    "        dic_inpc = {\n",
    "            'Indicadores econômicos': indicadores_ipca,\n",
    "            'Último': ultimo_ipca,\n",
    "            'Anterior': anterior_ipca,\n",
    "            '12 meses': meses12_ipca,\n",
    "            'No ano': no_ano_ipca\n",
    "        }\n",
    "    \n",
    "df_ipca = pd.DataFrame(dic_ipca, index=[0])\n",
    "#display(df_ipca)"
   ]
  },
  {
   "cell_type": "markdown",
   "id": "34f6d67c",
   "metadata": {},
   "source": [
    "Indicador IPCA-15"
   ]
  },
  {
   "cell_type": "code",
   "execution_count": 258,
   "id": "0e59df27",
   "metadata": {},
   "outputs": [],
   "source": [
    "for linha in html_tabela.tbody.find_all('tr', id='indicador-ipca-15'): # pegando cada linha <tr> da tabela\n",
    "        indicadores_ipca_15 = linha.find('th').text.strip()[:7]\n",
    "        ultimo_ipca_15 = linha.find('td', class_='ultimo').text.strip()[34:39]\n",
    "        anterior_ipca_15 = linha.find('td', class_='desktop-tablet-only anterior').text.strip()[36:41]\n",
    "        meses12_ipca_15 = linha.find('td', class_='desktop-tablet-only dozemeses').text.strip()[36:41]\n",
    "        no_ano_ipca_15 = linha.find('td', class_='desktop-tablet-only ano').text.strip()[34:39]\n",
    "      \n",
    "        # adicionando os valores das linhas a um dicionário temporário (pra depois juntar tudo no dic_geral)\n",
    "        \n",
    "        dic_ipca_15 = {\n",
    "            'Indicadores econômicos': indicadores_ipca_15,\n",
    "            'Último': ultimo_ipca_15,\n",
    "            'Anterior': anterior_ipca_15,\n",
    "            '12 meses': meses12_ipca_15,\n",
    "            'No ano': no_ano_ipca_15\n",
    "        }\n",
    "\n",
    "df_ipca_15 = pd.DataFrame(dic_ipca_15, index=[0])\n",
    "#display(df_ipca_15)"
   ]
  },
  {
   "cell_type": "markdown",
   "id": "8a464cb9",
   "metadata": {},
   "source": [
    "Indicador IPP"
   ]
  },
  {
   "cell_type": "code",
   "execution_count": 259,
   "id": "c4abc0ab",
   "metadata": {},
   "outputs": [],
   "source": [
    "for linha in html_tabela.tbody.find_all('tr', id='indicador-ipp'): # pegando cada linha <tr> da tabela\n",
    "        indicadores_ipp = linha.find('th').text.strip()[:3]\n",
    "        ultimo_ipp = linha.find('td', class_='ultimo').text.strip()[34:39]\n",
    "        anterior_ipp = linha.find('td', class_='desktop-tablet-only anterior').text.strip()[36:42]\n",
    "        meses12_ipp = linha.find('td', class_='desktop-tablet-only dozemeses').text.strip()[36:43]\n",
    "        no_ano_ipp = linha.find('td', class_='desktop-tablet-only ano').text.strip()[34:40]\n",
    "      \n",
    "        # adicionando os valores das linhas a um dicionário temporário (pra depois juntar tudo no dic_geral)\n",
    "        \n",
    "        dic_ipp = {\n",
    "            'Indicadores econômicos': indicadores_ipp,\n",
    "            'Último': ultimo_ipp,\n",
    "            'Anterior': anterior_ipp,\n",
    "            '12 meses': meses12_ipp,\n",
    "            'No ano': no_ano_ipp\n",
    "        }\n",
    "\n",
    "df_ipp = pd.DataFrame(dic_ipp, index=[0])\n",
    "#display(df_ipp)"
   ]
  },
  {
   "cell_type": "markdown",
   "id": "d13258fb",
   "metadata": {},
   "source": [
    "Indicador Custo do M²"
   ]
  },
  {
   "cell_type": "code",
   "execution_count": 260,
   "id": "545253c7",
   "metadata": {},
   "outputs": [],
   "source": [
    "for linha in html_tabela.tbody.find_all('tr', id='indicador-custo-do-m'): # pegando cada linha <tr> da tabela\n",
    "        indicadores_m = linha.find('th').text.strip()[:11]\n",
    "        ultimo_m = linha.find('td', class_='ultimo').text.strip()[34:39]\n",
    "        anterior_m = linha.find('td', class_='desktop-tablet-only anterior').text.strip()[36:41]\n",
    "        meses12_m = linha.find('td', class_='desktop-tablet-only dozemeses').text.strip()[36:41]\n",
    "        no_ano_m = linha.find('td', class_='desktop-tablet-only ano').text.strip()[34:39]\n",
    "      \n",
    "        # adicionando os valores das linhas a um dicionário temporário (pra depois juntar tudo no dic_geral)\n",
    "        \n",
    "        dic_m = {\n",
    "            'Indicadores econômicos': indicadores_m,\n",
    "            'Último': ultimo_m,\n",
    "            'Anterior': anterior_m,\n",
    "            '12 meses': meses12_m,\n",
    "            'No ano': no_ano_m\n",
    "        }\n",
    "\n",
    "df_m = pd.DataFrame(dic_m, index=[0])\n",
    "#display(df_m)"
   ]
  },
  {
   "cell_type": "markdown",
   "id": "f1132142",
   "metadata": {},
   "source": [
    "Indicador Variação do PIB"
   ]
  },
  {
   "cell_type": "code",
   "execution_count": 261,
   "id": "ae479f42",
   "metadata": {},
   "outputs": [],
   "source": [
    "for linha in html_tabela.tbody.find_all('tr', id='indicador-variacao-do-pib'): # pegando cada linha <tr> da tabela\n",
    "        indicadores_vpib = linha.find('th').text.strip()[:15]\n",
    "        ultimo_vpib = linha.find('td', class_='ultimo').text.strip()[34:39]\n",
    "        anterior_vpib = linha.find('td', class_='desktop-tablet-only anterior').text.strip()[36:41]\n",
    "        meses12_vpib = linha.find('td', class_='desktop-tablet-only dozemeses').text.strip()[36:41]\n",
    "        no_ano_vpib = linha.find('td', class_='desktop-tablet-only ano').text.strip()[34:39]\n",
    "      \n",
    "        # adicionando os valores das linhas a um dicionário temporário (pra depois juntar tudo no dic_geral)\n",
    "        \n",
    "        dic_vpib = {\n",
    "            'Indicadores econômicos': indicadores_vpib,\n",
    "            'Último': ultimo_vpib,\n",
    "            'Anterior': anterior_vpib,\n",
    "            '12 meses': meses12_vpib,\n",
    "            'No ano': no_ano_vpib\n",
    "        }\n",
    "\n",
    "df_vpib = pd.DataFrame(dic_vpib, index=[0])\n",
    "#display(df_vpib)"
   ]
  },
  {
   "cell_type": "markdown",
   "id": "9ba6fb7b",
   "metadata": {},
   "source": [
    "Indicador PIB per capita"
   ]
  },
  {
   "cell_type": "code",
   "execution_count": 262,
   "id": "4186715e",
   "metadata": {},
   "outputs": [],
   "source": [
    "for linha in html_tabela.tbody.find_all('tr', id='indicador-pib-per-capita'): # pegando cada linha <tr> da tabela\n",
    "        indicadores_pibpc = linha.find('th').text.strip()[:14]\n",
    "        ultimo_pibpc = linha.find('td', class_='ultimo').text.strip()[34:44]\n",
    "        anterior_pibpc = linha.find('td', class_='desktop-tablet-only anterior').text.strip()[36:46]\n",
    "        meses12_pibpc = linha.find('td', class_='desktop-tablet-only dozemeses').text.strip()[36:46]\n",
    "        no_ano_pibpc = linha.find('td', class_='desktop-tablet-only ano').text.strip()[34:44]\n",
    "      \n",
    "        # adicionando os valores das linhas a um dicionário temporário (pra depois juntar tudo no dic_geral)\n",
    "        \n",
    "        dic_pibpc = {\n",
    "            'Indicadores econômicos': indicadores_pibpc,\n",
    "            'Último': ultimo_pibpc,\n",
    "            'Anterior': anterior_pibpc,\n",
    "            '12 meses': meses12_pibpc,\n",
    "            'No ano': no_ano_pibpc\n",
    "        }\n",
    "\n",
    "df_pibpc = pd.DataFrame(dic_pibpc, index=[0])\n",
    "#display(df_pibpc)"
   ]
  },
  {
   "cell_type": "markdown",
   "id": "9f7514b2",
   "metadata": {},
   "source": [
    "Indicador Indústria"
   ]
  },
  {
   "cell_type": "code",
   "execution_count": 264,
   "id": "fd50682a",
   "metadata": {},
   "outputs": [],
   "source": [
    "for linha in html_tabela.tbody.find_all('tr', id='indicador-industria'): # pegando cada linha <tr> da tabela\n",
    "        indicadores_ind = linha.find('th').text.strip()[:9]\n",
    "        ultimo_ind = linha.find('td', class_='ultimo').text.strip()[34:39]\n",
    "        anterior_ind = linha.find('td', class_='desktop-tablet-only anterior').text.strip()[36:41]\n",
    "        meses12_ind = linha.find('td', class_='desktop-tablet-only dozemeses').text.strip()[36:41]\n",
    "        no_ano_ind = linha.find('td', class_='desktop-tablet-only ano').text.strip()[34:39]\n",
    "      \n",
    "        # adicionando os valores das linhas a um dicionário temporário (pra depois juntar tudo no dic_geral)\n",
    "        \n",
    "        dic_ind = {\n",
    "            'Indicadores econômicos': indicadores_ind,\n",
    "            'Último': ultimo_ind,\n",
    "            'Anterior': anterior_ind,\n",
    "            '12 meses': meses12_ind,\n",
    "            'No ano': no_ano_ind\n",
    "        }\n",
    "    \n",
    "df_ind = pd.DataFrame(dic_ind, index=[0])\n",
    "#display(df_ind)"
   ]
  },
  {
   "cell_type": "markdown",
   "id": "96555b23",
   "metadata": {},
   "source": [
    "Indicador Comércio"
   ]
  },
  {
   "cell_type": "code",
   "execution_count": 265,
   "id": "6f455145",
   "metadata": {},
   "outputs": [],
   "source": [
    "for linha in html_tabela.tbody.find_all('tr', id='indicador-comercio'): # pegando cada linha <tr> da tabela\n",
    "        indicadores_comercio = linha.find('th').text.strip()[:8]\n",
    "        ultimo_comercio = linha.find('td', class_='ultimo').text.strip()[34:39]\n",
    "        anterior_comercio = linha.find('td', class_='desktop-tablet-only anterior').text.strip()[36:41]\n",
    "        meses12_comercio = linha.find('td', class_='desktop-tablet-only dozemeses').text.strip()[36:41]\n",
    "        no_ano_comercio = linha.find('td', class_='desktop-tablet-only ano').text.strip()[34:39]\n",
    "      \n",
    "        # adicionando os valores das linhas a um dicionário temporário (pra depois juntar tudo no dic_geral)\n",
    "        \n",
    "        dic_comercio = {\n",
    "            'Indicadores econômicos': indicadores_comercio,\n",
    "            'Último': ultimo_comercio,\n",
    "            'Anterior': anterior_comercio,\n",
    "            '12 meses': meses12_comercio,\n",
    "            'No ano': no_ano_comercio\n",
    "        }\n",
    "        \n",
    "df_comercio = pd.DataFrame(dic_comercio, index=[0])\n",
    "#display(df_comercio)"
   ]
  },
  {
   "cell_type": "markdown",
   "id": "0d881622",
   "metadata": {},
   "source": [
    "Indicador Serviços"
   ]
  },
  {
   "cell_type": "code",
   "execution_count": 266,
   "id": "2cbcd58b",
   "metadata": {
    "scrolled": true
   },
   "outputs": [],
   "source": [
    "for linha in html_tabela.tbody.find_all('tr', id='indicador-servicos'): # pegando cada linha <tr> da tabela\n",
    "        indicadores_servicos = linha.find('th').text.strip()[:8]\n",
    "        ultimo_servicos = linha.find('td', class_='ultimo').text.strip()[34:39]\n",
    "        anterior_servicos = linha.find('td', class_='desktop-tablet-only anterior').text.strip()[36:41]\n",
    "        meses12_servicos = linha.find('td', class_='desktop-tablet-only dozemeses').text.strip()[36:41]\n",
    "        no_ano_servicos = linha.find('td', class_='desktop-tablet-only ano').text.strip()[34:39]\n",
    "      \n",
    "        # adicionando os valores das linhas a um dicionário temporário (pra depois juntar tudo no dic_geral)\n",
    "        \n",
    "        dic_servicos = {\n",
    "            'Indicadores econômicos': indicadores_servicos,\n",
    "            'Último': ultimo_servicos,\n",
    "            'Anterior': anterior_servicos,\n",
    "            '12 meses': meses12_servicos,\n",
    "            'No ano': no_ano_servicos\n",
    "        }\n",
    "    \n",
    "df_servicos = pd.DataFrame(dic_servicos, index=[0])\n",
    "#display(df_servicos)"
   ]
  },
  {
   "cell_type": "markdown",
   "id": "a49350e0",
   "metadata": {},
   "source": [
    "3 - Juntando todos os subdicionarios e subdataframes em uma única tabela completa"
   ]
  },
  {
   "cell_type": "code",
   "execution_count": 253,
   "id": "8fa6cabc",
   "metadata": {
    "scrolled": true
   },
   "outputs": [],
   "source": [
    "tabela_completa = pd.concat([df_ipca, df_inpc, df_ipca, df_ipca_15, df_ipp, df_m, df_vpib, df_pibpc, df_ind, df_comercio, df_servicos], ignore_index=True)\n",
    "\n",
    "#display(tabela_completa)"
   ]
  },
  {
   "cell_type": "markdown",
   "id": "2fac200f",
   "metadata": {},
   "source": [
    "4 - Exportando o resultado em csv"
   ]
  },
  {
   "cell_type": "code",
   "execution_count": 249,
   "id": "b035959e",
   "metadata": {},
   "outputs": [],
   "source": [
    "tabela_completa.to_csv('C:/Users/iggyb/OneDrive/Documentos/Kedma/UFPI/2023-2/Análise de Dados/Trabalho - Análise de Dados - Raspagem de Indicadores Econômicos/tabela_indicadores_economicos_Kedma_Bruna.csv', encoding='utf-8')"
   ]
  },
  {
   "cell_type": "markdown",
   "id": "379e18e1",
   "metadata": {},
   "source": [
    "<h6>Tomada de decisão </h6>"
   ]
  },
  {
   "cell_type": "markdown",
   "id": "47743adf",
   "metadata": {},
   "source": [
    "<h7>Monitoramento Contínuo e Ação Ágil: </h7>\n",
    "\n",
    "Para enfrentar a volatilidade dos indicadores econômicos, é essencial manter um sistema de monitoramento contínuo e análise frequente. Bancos centrais podem realizar reuniões regulares para ajustar taxas de juros, e empresas/investidores podem adaptar estratégias com base em indicadores-chave, como o IPCA."
   ]
  },
  {
   "cell_type": "markdown",
   "id": "547e52c2",
   "metadata": {},
   "source": [
    "<h7>Estímulo ao Crescimento e Exemplo de Ação:  </h7>\n",
    "\n",
    "Como a saída do programa aponta para uma planilha .csv, os dados coletados pelo software podem ser organizados em um dashboard, como por exemplo, no Power BI (que aceita fontes de dados em formato .csv).\n",
    "\n",
    "Ou ainda, poderia ser construído um dashboard em python, utilizando a biblioteca MatPlotLib, e este ser colocado em um local estratégico na empresa, para aumentar a transparência entre os setores, ou mesmo entre os membros da equipe, e assim, impulsionando os colaboradores a aumentarem seus indicadores corporativos, como OKR (Objectives and Key Results).\n",
    "\n",
    "Além disso, o estímulo ao crescimento também abrange medidas amplas de crescimento da própria instituição/empresa, como decisão em investimentos. Por exemplo, um governo pode promover programas de infraestrutura, como a construção de estradas, para impulsionar a construção civil e o emprego. Também pode subsidiar a pesquisa em setores de alta tecnologia, como TI, para fomentar a inovação e o crescimento.\n"
   ]
  },
  {
   "cell_type": "markdown",
   "id": "0cb0b71b",
   "metadata": {},
   "source": [
    "\n",
    "        "
   ]
  },
  {
   "cell_type": "code",
   "execution_count": null,
   "id": "59451c05",
   "metadata": {},
   "outputs": [],
   "source": []
  },
  {
   "cell_type": "code",
   "execution_count": null,
   "id": "d6d7af21",
   "metadata": {},
   "outputs": [],
   "source": []
  },
  {
   "cell_type": "code",
   "execution_count": null,
   "id": "978d9974",
   "metadata": {},
   "outputs": [],
   "source": []
  },
  {
   "cell_type": "code",
   "execution_count": null,
   "id": "1660943d",
   "metadata": {},
   "outputs": [],
   "source": []
  },
  {
   "cell_type": "code",
   "execution_count": null,
   "id": "0633b713",
   "metadata": {},
   "outputs": [],
   "source": []
  },
  {
   "cell_type": "code",
   "execution_count": null,
   "id": "ff0e9c4e",
   "metadata": {},
   "outputs": [],
   "source": []
  },
  {
   "cell_type": "code",
   "execution_count": null,
   "id": "078c06dd",
   "metadata": {},
   "outputs": [],
   "source": []
  },
  {
   "cell_type": "code",
   "execution_count": null,
   "id": "e0730e5a",
   "metadata": {},
   "outputs": [],
   "source": []
  }
 ],
 "metadata": {
  "kernelspec": {
   "display_name": "Python 3 (ipykernel)",
   "language": "python",
   "name": "python3"
  },
  "language_info": {
   "codemirror_mode": {
    "name": "ipython",
    "version": 3
   },
   "file_extension": ".py",
   "mimetype": "text/x-python",
   "name": "python",
   "nbconvert_exporter": "python",
   "pygments_lexer": "ipython3",
   "version": "3.11.4"
  }
 },
 "nbformat": 4,
 "nbformat_minor": 5
}
